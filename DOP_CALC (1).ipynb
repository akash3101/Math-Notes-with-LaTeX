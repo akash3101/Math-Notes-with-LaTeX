{
 "cells": [
  {
   "cell_type": "markdown",
   "metadata": {},
   "source": [
    "# DOP Calculator for Option Strategies\n",
    "\n",
    "***2019DMB02 - Akash Gupta***\n",
    "\n",
    "# Basics of option payoffs\n",
    "\n",
    "Before starting out, here are some common notations used in Options pricing:\n",
    "\n",
    "1. Strike Price: $K$\n",
    "\n",
    "2. Price of Asset at Maturity: S_T\n",
    "\n",
    "3. Price of the **call option** is: c\n",
    "\n",
    "4. The price of the **put option** is: p\n",
    "\n",
    "Note that we will mention all **payoffs** by including the option price. With this, here are the payoffs for various types of Options and across different positions.\n",
    "\n",
    "1. **Long call payoff**: $\\max(S_T - K - c, -c)$\n",
    "\n",
    "2. **Short call payoff**: $-\\max(S_T - K - c, -c)$\n",
    "\n",
    "3. **Long put payoff**: $\\max(K - S_T - p, -p)$\n",
    "\n",
    "4. **Short put payoff**: $-\\max(K - S_T - p, -p)$\n",
    "\n",
    "# About combined payoffs\n",
    "\n",
    "In this report we will present the combined payoffs resulting from holding a portfolio which could be a combination of long/short positions in stock and long/short positions in multiple types of options. The idea is to plot the payoffs from the constituents of the portfolio and then plot the combined payoffs as well. "
   ]
  },
  {
   "cell_type": "code",
   "execution_count": 1,
   "metadata": {},
   "outputs": [],
   "source": [
    "import numpy as np\n",
    "import pandas as pd\n",
    "import matplotlib.pyplot as plt\n",
    "from matplotlib import cm\n",
    "%matplotlib inline\n",
    "plt.style.use('seaborn-whitegrid')"
   ]
  },
  {
   "cell_type": "code",
   "execution_count": 2,
   "metadata": {},
   "outputs": [],
   "source": [
    "def long_call(c, ST, K):\n",
    "    payoff_LC = []\n",
    "    for i in ST:\n",
    "        if i <= K:\n",
    "            payoff_LC.append(-c)\n",
    "        else:\n",
    "            payoff_LC.append(i - K - c)\n",
    "    return np.array(payoff_LC)\n",
    "\n",
    "def long_put(p, ST, K):\n",
    "    payoff_LP = []\n",
    "    for i in ST:\n",
    "        if i < K:\n",
    "            payoff_LP.append(K - i - p)\n",
    "        else:\n",
    "            payoff_LP.append(-p)\n",
    "    return np.array(payoff_LP)\n",
    "\n",
    "def short_call(c, ST, K):\n",
    "    payoff_SC = []\n",
    "    for i in ST:\n",
    "        if i <= K:\n",
    "            payoff_SC.append(c)\n",
    "        else:\n",
    "            payoff_SC.append(-(i - K - c))\n",
    "    return np.array(payoff_SC)\n",
    "        \n",
    "def short_put(p, ST, K):\n",
    "    payoff_SP = []\n",
    "    for i in ST:\n",
    "        if i < K:\n",
    "            payoff_SP.append(-(K - i - p))\n",
    "        else:\n",
    "            payoff_SP.append(p)\n",
    "    return np.array(payoff_SP)\n",
    "            \n",
    "def short_stock(price, ST):\n",
    "    short_S = []\n",
    "    for i in ST:\n",
    "        short_S.append(-(-price + i))\n",
    "    return np.array(short_S)\n",
    "        \n",
    "def long_stock(price, ST):\n",
    "    long_S = []\n",
    "    for i in ST:\n",
    "        long_S.append(-price + i)\n",
    "    return np.array(long_S)\n",
    "\n",
    "def combined_payoff(ST_1, args):\n",
    "    color = cm.rainbow(np.linspace(0, 1, len(args)))\n",
    "    total_payoff = np.zeros(len(ST_1))\n",
    "    fig = plt.figure(figsize = (7, 7))\n",
    "    for i, c in zip(range(len(args)), color):\n",
    "        total_payoff += args[i]()\n",
    "        plt.plot(ST_1, args[i](), c=c, linestyle='--')\n",
    "    plt.plot(ST_1, total_payoff, 'r')\n",
    "    \n",
    "def extract_function_args(ST_1, port):\n",
    "    func_args = {}\n",
    "    color = cm.rainbow(np.linspace(0, 1, len(port)))\n",
    "    total_pay = np.zeros(len(ST_1))\n",
    "    fig = plt.figure(figsize = (7, 7))\n",
    "    for key, value in port.items():\n",
    "        if len(port[key]) == 0:\n",
    "            pass\n",
    "        elif len(port[key]) != 0:\n",
    "            func_args[key] = value\n",
    "    return func_args\n",
    "\n",
    "def plot_funcs(ST_1, port):\n",
    "    func_args = extract_function_args(ST_1, port)\n",
    "    total_payoff = np.zeros(len(ST_1))\n",
    "    for key, value in func_args.items():\n",
    "        if key == 'sell call':\n",
    "            color = cm.rainbow(np.linspace(0, 1, len(value)))\n",
    "            for i, c in zip(range(len(value)), color):\n",
    "                plt.plot(ST_1, short_call(value[i], ST_1,\n",
    "                                        func_args['strike_SC'][i]), c=c, linestyle='--')\n",
    "                total_payoff += short_call(value[i], ST_1, func_args['strike_SC'][i])\n",
    "        elif key == 'buy call':\n",
    "            color = cm.rainbow(np.linspace(0, 1, len(value)))\n",
    "            for i, c in zip(range(len(value)), color):\n",
    "                plt.plot(ST_1, long_call(value[i], ST_1,\n",
    "                                          func_args['strike_LC'][i]), c=c, linestyle='--') \n",
    "                total_payoff += long_call(value[i], ST_1, func_args['strike_LC'][i])\n",
    "        elif key == 'sell put':\n",
    "            color = cm.rainbow(np.linspace(0, 1, len(value)))\n",
    "            for i, c in zip(range(len(value)), color):\n",
    "                plt.plot(ST_1, short_put(value[i], ST_1,\n",
    "                                          func_args['strike_SP'][i]), c=c, linestyle='--') \n",
    "                total_payoff += short_put(value[i], ST_1, func_args['strike_SP'][i])\n",
    "        elif key == 'buy put':\n",
    "            color = cm.rainbow(np.linspace(0, 1, len(value)))\n",
    "            for i, c in zip(range(len(value)), color):\n",
    "                plt.plot(ST_1, long_put(value[i], ST_1,\n",
    "                                          func_args['strike_LP'][i]), c=c, linestyle='--') \n",
    "                total_payoff += long_put(value[i], ST_1, func_args['strike_LP'][i])\n",
    "        elif key == 'buy share':\n",
    "            color = cm.rainbow(np.linspace(0, 1, len(value)))\n",
    "            for i, c in zip(range(len(value)), color):\n",
    "                plt.plot(ST_1, long_stock(value[i], ST_1),\n",
    "                                          c=c, linestyle='--') \n",
    "                total_payoff += long_stock(value[i], ST_1)\n",
    "        elif key == 'sell share':\n",
    "            color = cm.rainbow(np.linspace(0, 1, len(value)))\n",
    "            for i, c in zip(range(len(value)), color):\n",
    "                plt.plot(ST_1, short_stock(value[i], ST_1),\n",
    "                                          c=c, linestyle='--')\n",
    "                total_payoff += short_stock(value[i], ST_1)    \n",
    "    plt.plot(ST_1, total_payoff, 'g', linewidth=4)            \n",
    "    m = np.max(total_payoff)\n",
    "    print(\"****************\")\n",
    "    print()\n",
    "    print(\"Max payoff is: \", m)\n",
    "    print()\n",
    "    print(\"****************\")\n",
    "    print()\n",
    "    print(\"Stock price at which max payoff is achieved: \", \n",
    "          ST_1[np.where(total_payoff == m)])\n",
    "    print()\n",
    "    print(\"****************\")"
   ]
  },
  {
   "cell_type": "code",
   "execution_count": 20,
   "metadata": {},
   "outputs": [],
   "source": [
    "def display_menu():\n",
    "    print(\"****************\")\n",
    "    print()\n",
    "    print(\"Here are your options for creating a portfolio:\")\n",
    "    print(\"1. Buy a share (long stock position) -- type 'buy share'\")\n",
    "    print(\"2. Sell a share (short stock position) -- type 'sell share'\")\n",
    "    print(\"3. Buy a call option (long call position) -- type 'buy call'\")\n",
    "    print(\"4. Sell a call option (short call position) -- type 'sell call'\")\n",
    "    print(\"5. Buy a put option (long put position) -- type 'buy put'\")\n",
    "    print(\"6. Sell a put option (short put position) -- type 'sell put'\")\n",
    "    print()\n",
    "    print(\"****************\")\n",
    "    print()\n",
    "\n",
    "def create_folio():   \n",
    "    ST_1 = np.sort(np.array(np.random.normal(0, 100, 1000)))\n",
    "    folio_dict = {'buy share': [], 'sell share': [], 'buy call': [], 'sell call': [],\n",
    "                  'buy put': [], 'sell put': [], 'strike_LC': [], 'strike_SC': [],\n",
    "                  'strike_LP': [], 'strike_SP': []}\n",
    "    args_main = {}\n",
    "    bool1 = True\n",
    "    counter = 0\n",
    "    while bool1 == True:\n",
    "        display_menu()\n",
    "        print()\n",
    "        a = input(\"What would you like ? (type 'nothing' to exit || type the action words otherise): \")\n",
    "        if a == 'nothing':\n",
    "            bool1 = False\n",
    "            return folio_dict, ST_1, args_main\n",
    "        elif a == 'buy share':\n",
    "            st = int(input(\"enter a stock price: \"))\n",
    "            folio_dict['buy share'].append(st)\n",
    "            args_main[counter] = (lambda: long_stock(st, ST_1))\n",
    "        elif a == 'sell share':\n",
    "            st = int(input(\"enter a stock price: \"))\n",
    "            folio_dict['sell share'].append(st)\n",
    "            args_main[counter] = (lambda: short_stock(st, ST_1))\n",
    "        elif a == 'buy call':\n",
    "            c = int(input(\"enter a long call price: \"))\n",
    "            folio_dict['buy call'].append(c)\n",
    "            k = int(input(\"enter a long call strike price: \"))\n",
    "            folio_dict['strike_LC'].append(k)\n",
    "            args_main[counter] = (lambda: long_call(folio_dict['buy call'][-1], \n",
    "                                                    ST_1, folio_dict['strike_LC'][-1]))\n",
    "        elif a == 'sell call':\n",
    "            c = int(input(\"enter a short call price: \"))\n",
    "            folio_dict['sell call'].append(c)\n",
    "            k = int(input(\"enter a short call strike price: \"))\n",
    "            folio_dict['strike_SC'].append(k)\n",
    "            args_main[counter] = (lambda: short_call(folio_dict['sell call'][-1], \n",
    "                                                     ST_1, folio_dict['sell call'][-1]))\n",
    "        elif a == 'buy put':\n",
    "            p = int(input(\"enter a long put price: \"))\n",
    "            folio_dict['buy put'].append(p)\n",
    "            k = int(input(\"enter a long put strike price: \"))\n",
    "            folio_dict['strike_LP'].append(k)\n",
    "            args_main[counter] = (lambda: long_put(p, ST_1, k))\n",
    "        elif a == 'sell put':\n",
    "            p = int(input(\"enter a short put price: \"))\n",
    "            folio_dict['sell put'].append(p)\n",
    "            k = int(input(\"enter a short put strike price: \"))\n",
    "            folio_dict['strike_SP'].append(k)\n",
    "            args_main[counter] = (lambda: short_put(p, ST_1, k))\n",
    "        counter += 1"
   ]
  },
  {
   "cell_type": "code",
   "execution_count": 21,
   "metadata": {},
   "outputs": [
    {
     "name": "stdout",
     "output_type": "stream",
     "text": [
      "****************\n",
      "\n",
      "Here are your options for creating a portfolio:\n",
      "1. Buy a share (long stock position) -- type 'buy share'\n",
      "2. Sell a share (short stock position) -- type 'sell share'\n",
      "3. Buy a call option (long call position) -- type 'buy call'\n",
      "4. Sell a call option (short call position) -- type 'sell call'\n",
      "5. Buy a put option (long put position) -- type 'buy put'\n",
      "6. Sell a put option (short put position) -- type 'sell put'\n",
      "\n",
      "****************\n",
      "\n",
      "\n"
     ]
    },
    {
     "name": "stdin",
     "output_type": "stream",
     "text": [
      "What would you like ? (type 'nothing' to exit || type the action words otherise):  buy call\n",
      "enter a long call price:  30\n",
      "enter a long call strike price:  40\n"
     ]
    },
    {
     "name": "stdout",
     "output_type": "stream",
     "text": [
      "****************\n",
      "\n",
      "Here are your options for creating a portfolio:\n",
      "1. Buy a share (long stock position) -- type 'buy share'\n",
      "2. Sell a share (short stock position) -- type 'sell share'\n",
      "3. Buy a call option (long call position) -- type 'buy call'\n",
      "4. Sell a call option (short call position) -- type 'sell call'\n",
      "5. Buy a put option (long put position) -- type 'buy put'\n",
      "6. Sell a put option (short put position) -- type 'sell put'\n",
      "\n",
      "****************\n",
      "\n",
      "\n"
     ]
    },
    {
     "name": "stdin",
     "output_type": "stream",
     "text": [
      "What would you like ? (type 'nothing' to exit || type the action words otherise):  buy call\n",
      "enter a long call price:  10\n",
      "enter a long call strike price:  100\n"
     ]
    },
    {
     "name": "stdout",
     "output_type": "stream",
     "text": [
      "****************\n",
      "\n",
      "Here are your options for creating a portfolio:\n",
      "1. Buy a share (long stock position) -- type 'buy share'\n",
      "2. Sell a share (short stock position) -- type 'sell share'\n",
      "3. Buy a call option (long call position) -- type 'buy call'\n",
      "4. Sell a call option (short call position) -- type 'sell call'\n",
      "5. Buy a put option (long put position) -- type 'buy put'\n",
      "6. Sell a put option (short put position) -- type 'sell put'\n",
      "\n",
      "****************\n",
      "\n",
      "\n"
     ]
    },
    {
     "name": "stdin",
     "output_type": "stream",
     "text": [
      "What would you like ? (type 'nothing' to exit || type the action words otherise):  sell call\n",
      "enter a short call price:  20\n",
      "enter a short call strike price:  70\n"
     ]
    },
    {
     "name": "stdout",
     "output_type": "stream",
     "text": [
      "****************\n",
      "\n",
      "Here are your options for creating a portfolio:\n",
      "1. Buy a share (long stock position) -- type 'buy share'\n",
      "2. Sell a share (short stock position) -- type 'sell share'\n",
      "3. Buy a call option (long call position) -- type 'buy call'\n",
      "4. Sell a call option (short call position) -- type 'sell call'\n",
      "5. Buy a put option (long put position) -- type 'buy put'\n",
      "6. Sell a put option (short put position) -- type 'sell put'\n",
      "\n",
      "****************\n",
      "\n",
      "\n"
     ]
    },
    {
     "name": "stdin",
     "output_type": "stream",
     "text": [
      "What would you like ? (type 'nothing' to exit || type the action words otherise):  sell call\n",
      "enter a short call price:  20\n",
      "enter a short call strike price:  70\n"
     ]
    },
    {
     "name": "stdout",
     "output_type": "stream",
     "text": [
      "****************\n",
      "\n",
      "Here are your options for creating a portfolio:\n",
      "1. Buy a share (long stock position) -- type 'buy share'\n",
      "2. Sell a share (short stock position) -- type 'sell share'\n",
      "3. Buy a call option (long call position) -- type 'buy call'\n",
      "4. Sell a call option (short call position) -- type 'sell call'\n",
      "5. Buy a put option (long put position) -- type 'buy put'\n",
      "6. Sell a put option (short put position) -- type 'sell put'\n",
      "\n",
      "****************\n",
      "\n",
      "\n"
     ]
    },
    {
     "name": "stdin",
     "output_type": "stream",
     "text": [
      "What would you like ? (type 'nothing' to exit || type the action words otherise):  nothing\n"
     ]
    }
   ],
   "source": [
    "port, stockprice, args_new = create_folio()"
   ]
  },
  {
   "cell_type": "code",
   "execution_count": 22,
   "metadata": {},
   "outputs": [
    {
     "name": "stdout",
     "output_type": "stream",
     "text": [
      "****************\n",
      "\n",
      "Max payoff is:  29.376304935880498\n",
      "\n",
      "****************\n",
      "\n",
      "Stock price at which max payoff is achieved:  [70.62369506]\n",
      "\n",
      "****************\n"
     ]
    },
    {
     "data": {
      "image/png": "[encoded data removed]",
      "text/plain": [
       "<Figure size 504x504 with 1 Axes>"
      ]
     },
     "metadata": {
      "needs_background": "light"
     },
     "output_type": "display_data"
    }
   ],
   "source": [
    "plot_funcs(stockprice, port)"
   ]
  }
 ],
 "metadata": {
  "kernelspec": {
   "display_name": "Python 3",
   "language": "python",
   "name": "python3"
  },
  "language_info": {
   "codemirror_mode": {
    "name": "ipython",
    "version": 3
   },
   "file_extension": ".py",
   "mimetype": "text/x-python",
   "name": "python",
   "nbconvert_exporter": "python",
   "pygments_lexer": "ipython3",
   "version": "3.7.4"
  }
 },
 "nbformat": 4,
 "nbformat_minor": 4
}
